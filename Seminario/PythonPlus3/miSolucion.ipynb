{
 "cells": [
  {
   "cell_type": "code",
   "execution_count": 30,
   "metadata": {
    "collapsed": true,
    "ExecuteTime": {
     "end_time": "2023-06-20T23:29:06.753314100Z",
     "start_time": "2023-06-20T23:29:05.950549Z"
    }
   },
   "outputs": [
    {
     "data": {
      "text/plain": "Nombre completo del usuario\nButterfree    15.00\nHypno         34.00\nRhyhorn        0.15\nSlowpoke      48.00\nName: indice_raro, dtype: float64"
     },
     "execution_count": 30,
     "metadata": {},
     "output_type": "execute_result"
    }
   ],
   "source": [
    "import pandas as pd\n",
    "archivo_log = \"log_completo.csv\"\n",
    "data_set = pd.read_csv(archivo_log, encoding=\"utf-8\")\n",
    "usuarios = (\"Hypno\", \"Butterfree\", \"Rhyhorn\", \"Slowpoke\")\n",
    "filas = data_set[((data_set[\"Nombre completo del usuario\"].isin(usuarios)) & (data_set[\"Origen\"] == \"web\"))]\n",
    "minimos_por_usuario = filas.groupby(\"Nombre completo del usuario\")[\"indice_raro\"].min()\n",
    "\n",
    "minimos_por_usuario"
   ]
  },
  {
   "cell_type": "code",
   "execution_count": 26,
   "outputs": [
    {
     "data": {
      "text/plain": "Index(['Hora', 'Nombre completo del usuario', 'Usuario afectado',\n       'Contexto del evento', 'Componente', 'Nombre evento', 'Origen',\n       'Dirección IP', 'indice_raro', 'indice_super_raro'],\n      dtype='object')"
     },
     "execution_count": 26,
     "metadata": {},
     "output_type": "execute_result"
    }
   ],
   "source": [
    "data_set.columns ## Nombres de las columnas/ labels\n",
    "\n"
   ],
   "metadata": {
    "collapsed": false,
    "ExecuteTime": {
     "end_time": "2023-06-20T21:13:53.077753600Z",
     "start_time": "2023-06-20T21:13:53.068684800Z"
    }
   }
  },
  {
   "cell_type": "code",
   "execution_count": 25,
   "outputs": [
    {
     "data": {
      "text/plain": "(126593, 10)"
     },
     "execution_count": 25,
     "metadata": {},
     "output_type": "execute_result"
    }
   ],
   "source": [
    "data_set.shape ## Cantidad de filas y columnas"
   ],
   "metadata": {
    "collapsed": false,
    "ExecuteTime": {
     "end_time": "2023-06-20T21:13:48.599415300Z",
     "start_time": "2023-06-20T21:13:48.592977Z"
    }
   }
  },
  {
   "cell_type": "code",
   "execution_count": 28,
   "outputs": [
    {
     "data": {
      "text/plain": "Hora                            object\nNombre completo del usuario     object\nUsuario afectado                object\nContexto del evento             object\nComponente                      object\nNombre evento                   object\nOrigen                          object\nDirección IP                    object\nindice_raro                    float64\nindice_super_raro              float64\ndtype: object"
     },
     "execution_count": 28,
     "metadata": {},
     "output_type": "execute_result"
    }
   ],
   "source": [
    "data_set.dtypes"
   ],
   "metadata": {
    "collapsed": false,
    "ExecuteTime": {
     "end_time": "2023-06-20T21:14:30.694404200Z",
     "start_time": "2023-06-20T21:14:30.687219900Z"
    }
   }
  }
 ],
 "metadata": {
  "kernelspec": {
   "display_name": "Python 3",
   "language": "python",
   "name": "python3"
  },
  "language_info": {
   "codemirror_mode": {
    "name": "ipython",
    "version": 2
   },
   "file_extension": ".py",
   "mimetype": "text/x-python",
   "name": "python",
   "nbconvert_exporter": "python",
   "pygments_lexer": "ipython2",
   "version": "2.7.6"
  }
 },
 "nbformat": 4,
 "nbformat_minor": 0
}
